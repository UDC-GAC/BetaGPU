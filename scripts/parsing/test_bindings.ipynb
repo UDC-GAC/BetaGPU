{
 "cells": [
  {
   "cell_type": "code",
   "execution_count": null,
   "metadata": {},
   "outputs": [],
   "source": [
    "import os\n",
    "import sys\n",
    "\n",
    "# print pwd\n",
    "print(os.getcwd())\n",
    "\n",
    "## move to the root directory\n",
    "os.chdir(\"/home/alex/beta_dev/build\")\n",
    "\n",
    "# print pwd\n",
    "print(os.getcwd())\n",
    "\n",
    "# check python version\n",
    "print(sys.version)"
   ]
  },
  {
   "cell_type": "code",
   "execution_count": null,
   "metadata": {},
   "outputs": [],
   "source": [
    "x_list = [0.0909091,\n",
    "0.181818,\n",
    "0.272727,\n",
    "0.363636,\n",
    "0.454545,\n",
    "0.545455,\n",
    "0.636364,\n",
    "0.727273,\n",
    "0.818182,\n",
    "0.909091,\n",
    "]"
   ]
  },
  {
   "cell_type": "code",
   "execution_count": null,
   "metadata": {},
   "outputs": [],
   "source": [
    "from BetaDistCuda import *\n",
    "\n",
    "# print the docstring\n",
    "beta_pdf_cuda(x_list, 9.34, 11.34)"
   ]
  },
  {
   "cell_type": "code",
   "execution_count": null,
   "metadata": {},
   "outputs": [],
   "source": [
    "beta_cdf_cuda_GPU_CPU([0.2,0.4,0.6], 0.3, 0.3)"
   ]
  }
 ],
 "metadata": {
  "kernelspec": {
   "display_name": "cling",
   "language": "python",
   "name": "python3"
  },
  "language_info": {
   "codemirror_mode": {
    "name": "ipython",
    "version": 3
   },
   "file_extension": ".py",
   "mimetype": "text/x-python",
   "name": "python",
   "nbconvert_exporter": "python",
   "pygments_lexer": "ipython3",
   "version": "3.9.18"
  }
 },
 "nbformat": 4,
 "nbformat_minor": 2
}
