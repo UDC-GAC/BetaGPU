{
 "cells": [
  {
   "cell_type": "markdown",
   "metadata": {},
   "source": [
    "# Exploring CancerLocator Alphas and Betas"
   ]
  },
  {
   "cell_type": "markdown",
   "metadata": {},
   "source": [
    "We will be using the sample data from the CancerLocator tool."
   ]
  },
  {
   "cell_type": "markdown",
   "metadata": {},
   "source": [
    "We have printed out the relevant data into a file ```INPUT_FILE``` and we will use this file to explore the alphas and betas."
   ]
  },
  {
   "cell_type": "code",
   "execution_count": null,
   "metadata": {
    "metadata": {}
   },
   "outputs": [],
   "source": [
    "INPUT_FILE = '../../output/raw_output/cancerLocatorAlphaBetas.txt'\n",
    "lines  = []\n",
    "\n",
    "with open(INPUT_FILE, 'r') as f:\n",
    "    lines = f.readlines()\n",
    "\n",
    "lines = [line.strip(\"\\n\") for line in lines]"
   ]
  },
  {
   "cell_type": "markdown",
   "metadata": {},
   "source": [
    "This file contains 5 Methylation models representing 5 different tissues. Normal tissue and 4 different cancer tissues.\n",
    "\n",
    "Let's check this models!"
   ]
  },
  {
   "cell_type": "code",
   "execution_count": null,
   "metadata": {
    "metadata": {}
   },
   "outputs": [],
   "source": [
    "# Get the model names: they are in lines with the format \"<model_name>\t\t#Sample\t\tAlpha\t\tBeta\"\n",
    "model_names = [line.split('\\t')[0] for line in lines if line.endswith(\"\\t\\t#Sample\\t\\tAlpha\\t\\tBeta\")]\n",
    "\n",
    "for idx, model_name in enumerate(model_names):\n",
    "    print(f\"Model{idx + 1}. {model_name}\")"
   ]
  },
  {
   "cell_type": "markdown",
   "metadata": {},
   "source": [
    "For each model, we have a list of lines with #NumLine, Alpha, Beta\n",
    "\n",
    "Let's get the alpha and beta values for each model! "
   ]
  },
  {
   "cell_type": "code",
   "execution_count": null,
   "metadata": {
    "metadata": {}
   },
   "outputs": [],
   "source": [
    "current_model = None\n",
    "current_alphas_betas = []\n",
    "\n",
    "models = {}\n",
    "\n",
    "for line in lines:\n",
    "\n",
    "  ## If new model is found\n",
    "  if line.endswith(\"\\t\\t#Sample\\t\\tAlpha\\t\\tBeta\"):\n",
    "\n",
    "    ## Save the previous model\n",
    "    if current_model:\n",
    "      models[current_model] = current_alpha_betas\n",
    "\n",
    "    ## Start a new model\n",
    "    current_model = line.split('\\t')[0] # Get current model\n",
    "    current_alpha_betas = []\n",
    "\n",
    "  ## If line is an alpha beta line, read it  \n",
    "  if line.startswith(\"\\t\\t\"):\n",
    "    current_alpha_betas.append( ( float(line.split('\\t')[4]) , float(line.split('\\t')[6]) ) )\n",
    "\n",
    "## Save the last model\n",
    "models[current_model] = current_alpha_betas"
   ]
  },
  {
   "cell_type": "markdown",
   "metadata": {},
   "source": [
    "Now that we have the alpha and beta values for each model, we can plot them and see how they differ from each other.\n",
    "\n",
    "Let's print some basic statistics for each model and plot the alphas and betas for each model."
   ]
  },
  {
   "cell_type": "code",
   "execution_count": null,
   "metadata": {
    "metadata": {}
   },
   "outputs": [],
   "source": [
    "# Print how many Infs and Nans are in 'plasma_background' model\n",
    "print(\"plasma_background\")\n",
    "plasma_background = models['plasma_background']\n",
    "print(float('inf'))\n",
    "print(f\"Number of Infs in alpha: {sum([1 for alpha, beta in plasma_background if alpha == float('inf')])}\")\n",
    "print(f\"Number of Infs in beta: {sum([1 for alpha, beta in plasma_background if beta == float('inf')])}\")\n",
    "print(f\"Number of Nans in alpha: {sum([1 for alpha, beta in plasma_background if alpha != alpha])}\")\n",
    "print(f\"Number of Nans in beta: {sum([1 for alpha, beta in plasma_background if beta != beta])}\")\n"
   ]
  },
  {
   "cell_type": "code",
   "execution_count": null,
   "metadata": {
    "metadata": {}
   },
   "outputs": [],
   "source": [
    "import statistics\n",
    "import numpy as np\n",
    "import matplotlib.pyplot as plt\n",
    "\n",
    "for model_name, alphas_betas in models.items():\n",
    "    old_alphas, old_betas = zip(*alphas_betas)\n",
    "    \n",
    "    ## Filter NaNs from alphas y betas and Inf \n",
    "    alphas = [alpha for alpha in old_alphas if not np.isnan(alpha) and alpha != float('inf')]\n",
    "    betas = [beta for beta in old_betas if not np.isnan(beta) and beta != float('inf')]\n",
    "\n",
    "    print(f\"Model: {model_name}\")\n",
    "    #print(f\"Alphas: {alphas}\")\n",
    "    #print(f\"Betas: {betas}\")\n",
    "    print(f\"Mean Alpha: {statistics.mean(alphas)}\")\n",
    "    print(f\"Mean Beta: {statistics.mean(betas)}\")\n",
    "    print(f\"Median Alpha: {statistics.median(alphas)}\")\n",
    "    print(f\"Median Beta: {statistics.median(betas)}\")\n",
    "    print(f\"Standard Deviation Alpha: {statistics.stdev(alphas)}\")\n",
    "    print(f\"Standard Deviation Beta: {statistics.stdev(betas)}\")\n",
    "    print(f\"Variance Alpha: {statistics.variance(alphas)}\")\n",
    "    print(f\"Variance Beta: {statistics.variance(betas)}\")\n",
    "    print(f\"Max Alpha: {max(alphas)}\")\n",
    "    print(f\"Max Beta: {max(betas)}\")\n",
    "    print(f\"Min Alpha: {min(alphas)}\")\n",
    "    print(f\"Min Beta: {min(betas)}\")\n",
    "    print(f\"Alpha 95% CI: {np.percentile(alphas, 2.5)} - {np.percentile(alphas, 97.5)}\")\n",
    "    print(f\"Beta 95% CI: {np.percentile(betas, 2.5)} - {np.percentile(betas, 97.5)}\")\n",
    "    print(\"\")\n",
    "\n",
    "    plt.scatter(alphas, betas)\n",
    "    plt.xlabel('Alpha')\n",
    "    plt.ylabel('Beta')\n",
    "    plt.title(f'{model_name} Alpha vs Beta')\n",
    "    plt.show()"
   ]
  },
  {
   "cell_type": "markdown",
   "metadata": {},
   "source": [
    "Now Print those statistics and plot the alphas and betas for all models combined."
   ]
  },
  {
   "cell_type": "code",
   "execution_count": null,
   "metadata": {
    "metadata": {}
   },
   "outputs": [],
   "source": [
    "# Now Print those statistics and plot the alphas and betas for all models combined.\n",
    "all_alphas = []\n",
    "all_betas = []\n",
    "\n",
    "for model_name, alphas_betas in models.items():\n",
    "    old_alphas, old_betas = zip(*alphas_betas)\n",
    "    \n",
    "    ## Filter NaNs from alphas y betas and Inf \n",
    "    alphas = [alpha for alpha in old_alphas if not np.isnan(alpha) and alpha != float('inf') and alpha < 1e25]\n",
    "    betas = [beta for beta in old_betas if not np.isnan(beta) and beta != float('inf') and beta < 1e25]\n",
    "\n",
    "    all_alphas.extend(alphas)\n",
    "    all_betas.extend(betas)\n",
    "\n",
    "print(f\"Model: All\")\n",
    "#print(f\"Alphas: {all_alphas}\")\n",
    "#print(f\"Betas: {all_betas}\")\n",
    "print(f\"Mean Alpha: {statistics.mean(all_alphas)}\")\n",
    "print(f\"Mean Beta: {statistics.mean(all_betas)}\")\n",
    "print(f\"Median Alpha: {statistics.median(all_alphas)}\")\n",
    "print(f\"Median Beta: {statistics.median(all_betas)}\")\n",
    "print (f\"Alpha 25th percentile: {np.percentile(all_alphas, 25)}\")\n",
    "print (f\"Beta 25th percentile: {np.percentile(all_betas, 25)}\")\n",
    "print (f\"Alpha 75th percentile: {np.percentile(all_alphas, 75)}\")\n",
    "print (f\"Beta 75th percentile: {np.percentile(all_betas, 75)}\")\n",
    "print(f\"Standard Deviation Alpha: {statistics.stdev(all_alphas)}\")\n",
    "print(f\"Standard Deviation Beta: {statistics.stdev(all_betas)}\")\n",
    "print(f\"Variance Alpha: {statistics.variance(all_alphas)}\")\n",
    "print(f\"Variance Beta: {statistics.variance(all_betas)}\")\n",
    "print(f\"Max Alpha: {max(all_alphas)}\")\n",
    "print(f\"Max Beta: {max(all_betas)}\")\n",
    "print(f\"Min Alpha: {min(all_alphas)}\")\n",
    "print(f\"Min Beta: {min(all_betas)}\")\n",
    "print(f\"Alpha 75% CI: {np.percentile(all_alphas, 12.5)} - {np.percentile(all_alphas, 87.5)}\")\n",
    "print(f\"Beta 75% CI: {np.percentile(all_betas, 12.5)} - {np.percentile(all_betas, 87.5)}\")\n",
    "print(f\"Alpha 90% CI: {np.percentile(all_alphas, 5)} - {np.percentile(all_alphas, 95)}\")\n",
    "print(f\"Beta 90% CI: {np.percentile(all_betas, 5)} - {np.percentile(all_betas, 95)}\")\n",
    "print(f\"Alpha 95% CI: {np.percentile(all_alphas, 2.5)} - {np.percentile(all_alphas, 97.5)}\")\n",
    "print(f\"Beta 95% CI: {np.percentile(all_betas, 2.5)} - {np.percentile(all_betas, 97.5)}\")\n",
    "print(f\"Alpha 99% CI: {np.percentile(all_alphas, 0.5)} - {np.percentile(all_alphas, 99.5)}\")\n",
    "print(f\"Beta 99% CI: {np.percentile(all_betas, 0.5)} - {np.percentile(all_betas, 99.5)}\")\n",
    "print(\"\")\n",
    "plt.scatter(all_alphas, all_betas)\n",
    "plt.xlabel('Alpha')\n",
    "plt.ylabel('Beta')\n",
    "plt.title('All Models Combined Alpha vs Beta')\n",
    "plt.show()\n",
    "\n",
    "# Boxplot alphas and betas\n",
    "plt.boxplot([all_alphas, all_betas], labels=['Alpha', 'Beta'])\n",
    "plt.ylabel('Value')\n",
    "plt.title('Alpha and Beta Boxplot')\n",
    "plt.show()\n",
    "\n"
   ]
  }
 ],
 "metadata": {
  "kernelspec": {
   "display_name": "base",
   "language": "python",
   "name": "python3"
  },
  "language_info": {
   "codemirror_mode": {
    "name": "ipython",
    "version": 3
   },
   "file_extension": ".py",
   "mimetype": "text/x-python",
   "name": "python",
   "nbconvert_exporter": "python",
   "pygments_lexer": "ipython3",
   "version": "3.9.18"
  }
 },
 "nbformat": 4,
 "nbformat_minor": 2
}
